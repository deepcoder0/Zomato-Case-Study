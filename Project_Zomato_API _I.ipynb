{
 "cells": [
  {
   "cell_type": "markdown",
   "metadata": {},
   "source": [
    "# Project Details\n",
    "#### For this project, we are using the Zomato API.\n",
    "Zomato APIs give you access to the freshest and most exhaustive information for over 1.5 million restaurants across 10,000 cities globally.  \n",
    "Zomato API documentation link : https://developers.zomato.com/api  \n",
    "#### Our Motivation for using Zomato API\n",
    "By Collecting the data using Zomato API one can recommend restaurants on the basis of user’s affinity to specific cuisines, establishment types, locations, and price bands.  \n",
    "We can find out whether restaurant support online reservation or not.  \n",
    "We can find what is the most popular and/ or exclusive/new at a given location & time.  "
   ]
  },
  {
   "cell_type": "markdown",
   "metadata": {},
   "source": [
    "\n",
    "\n",
    "## Zomato cuisine problem details\n",
    "##### Problem 1\n",
    "Mexican cuisine began about 9,000 years ago, when agricultural communities such as the Maya formed, domesticating maize, creating the standard process of corn nixtamalization, and establishing their foodways.  \n",
    "You are a huge fan of ‘Mexican’ cuisine. Now using the Zomato API you want to analyse the best restaurant serving the Mexican Cuisine, their locations, and cost for two, etc.  \n",
    "There is a list of questions related to Mexican cuisines given in the next section."
   ]
  },
  {
   "cell_type": "markdown",
   "metadata": {},
   "source": [
    "### Problem 1 : Zomato Cuisine 1.1\n",
    "Fetch the cuisine_id of ‘Mexican’ cuisine using Zomato API.  \n",
    "Print the cuisine_id."
   ]
  },
  {
   "cell_type": "code",
   "execution_count": 4,
   "metadata": {},
   "outputs": [
    {
     "name": "stdout",
     "output_type": "stream",
     "text": [
      "73\n"
     ]
    }
   ],
   "source": [
    "#API Key : 6eacc55f385ade30c93e9d0259691e14\n",
    "import requests\n",
    "\n",
    "header = {'user-key': '6eacc55f385ade30c93e9d0259691e14'}\n",
    "data = {'city_id':1}\n",
    "response = requests.get('https://developers.zomato.com/api/v2.1/cuisines',headers=header,params=data)\n",
    "\n",
    "data = response.json()\n",
    "\n",
    "for i in data['cuisines']:\n",
    "    if i['cuisine']['cuisine_name']=='Mexican':\n",
    "        print(i['cuisine']['cuisine_id'])"
   ]
  },
  {
   "cell_type": "markdown",
   "metadata": {},
   "source": [
    "### Problem 2 : Zomato Cuisine 1.3\n",
    "Fetch the entityid and entitytype of place Connaught Place.  \n",
    "Print the entityid and entitytype  "
   ]
  },
  {
   "cell_type": "code",
   "execution_count": 12,
   "metadata": {},
   "outputs": [
    {
     "name": "stdout",
     "output_type": "stream",
     "text": [
      "subzone 104\n"
     ]
    }
   ],
   "source": [
    "import requests\n",
    "\n",
    "header = {'user-key': '6eacc55f385ade30c93e9d0259691e14'}\n",
    "data = {'query':'Connaught Place'}\n",
    "response = requests.get('https://developers.zomato.com/api/v2.1/locations',headers=header,params=data)\n",
    "\n",
    "data = response.json()\n",
    "#data\n",
    "for i in data['location_suggestions']:\n",
    "    print(i['entity_type'],i['entity_id'])"
   ]
  },
  {
   "cell_type": "markdown",
   "metadata": {},
   "source": [
    "### Problem 3 : Zomato Cuisine 1.4\n",
    "Fetch the top 10 best-rated restaurant serving ‘Mexican’ cuisine present in Connaught Place.  \n",
    "Print the restaurant name, user rating and restaurant id. "
   ]
  },
  {
   "cell_type": "code",
   "execution_count": 17,
   "metadata": {},
   "outputs": [
    {
     "name": "stdout",
     "output_type": "stream",
     "text": [
      "Farzi Cafe 4.5 18233593\n",
      "Station Bar 4.5 18851371\n",
      "Ministry Of Beer 4.4 18418277\n",
      "Lord Of The Drinks 4.4 312603\n",
      "Chili's Grill & Bar 4.4 18537536\n",
      "Local 4.3 18382360\n",
      "Xero Degrees 4.3 18729557\n",
      "Warehouse Cafe 4.3 301605\n",
      "The Junkyard Cafe 4.3 313256\n",
      "Teddy Boy 4.3 18281985\n"
     ]
    }
   ],
   "source": [
    "import requests\n",
    "\n",
    "header = {'user-key': '6eacc55f385ade30c93e9d0259691e14'}\n",
    "data = {'entity_id':104 , 'entity_type':'subzone','cuisines':73,'count' : 10, 'sort' : 'rating'}\n",
    "response = requests.get('https://developers.zomato.com/api/v2.1/search',headers=header,params=data)\n",
    "\n",
    "data = response.json()\n",
    "data = data['restaurants']\n",
    "\n",
    "for i in data:\n",
    "    print(i['restaurant']['name'],i['restaurant']['user_rating']['aggregate_rating'],i['restaurant']['R']['res_id'])\n"
   ]
  },
  {
   "cell_type": "markdown",
   "metadata": {},
   "source": [
    "### Program 4 : Zomato Cuisine 1.5\n",
    "Fetch the category id of category type ‘Cafes’ using Zomato API.  \n",
    "Print the category_id."
   ]
  },
  {
   "cell_type": "code",
   "execution_count": 25,
   "metadata": {},
   "outputs": [
    {
     "name": "stdout",
     "output_type": "stream",
     "text": [
      "6\n"
     ]
    }
   ],
   "source": [
    "import requests\n",
    "\n",
    "header = {'user-key': '6eacc55f385ade30c93e9d0259691e14'}\n",
    "response = requests.get('https://developers.zomato.com/api/v2.1/categories',headers=header)\n",
    "\n",
    "data = response.json()\n",
    "data = data['categories']\n",
    "\n",
    "for i in data:\n",
    "    if i['categories']['name']=='Cafes':\n",
    "        print(i['categories']['id'])"
   ]
  },
  {
   "cell_type": "markdown",
   "metadata": {},
   "source": [
    "### Program 5 : Zomato Cuisine 1.6\n",
    "Fetch the best-rated restaurant for ‘Mexican’ cuisine with category type ‘ Cafes’ present in Connaught Place using Zomato API.  \n",
    "Print the restaurant name, user rating and restaurant id."
   ]
  },
  {
   "cell_type": "code",
   "execution_count": 26,
   "metadata": {},
   "outputs": [
    {
     "name": "stdout",
     "output_type": "stream",
     "text": [
      "Xero Degrees 4.3 18729557\n",
      "Chaayos - Meri Wali Chai 4.2 18237315\n",
      "The Art House Bar n Cafe 4.0 18863766\n",
      "Cafe Coffee Day - The Square 3.5 303034\n"
     ]
    }
   ],
   "source": [
    "import requests\n",
    "\n",
    "header = {'user-key': '6eacc55f385ade30c93e9d0259691e14'}\n",
    "data = {'entity_id':104 , 'entity_type':'subzone', 'cuisines':73, 'category':6 , 'sort':'rating'}\n",
    "response = requests.get('https://developers.zomato.com/api/v2.1/search',headers=header,params=data)\n",
    "\n",
    "data = response.json()\n",
    "data = data['restaurants']\n",
    "\n",
    "for i in data:\n",
    "    print(i['restaurant']['name'],i['restaurant']['user_rating']['aggregate_rating'],i['restaurant']['R']['res_id'])"
   ]
  },
  {
   "cell_type": "markdown",
   "metadata": {},
   "source": [
    "### Problem 6 : Zomato Cuisine 1.7\n",
    "Fetch the latest review of the best-rated restaurant for ‘Mexican’ cuisine with Category type ‘Cafes’ present in Connaught Place using Zomato API.  \n",
    "Print the name of user ,user rating and review text.  \n",
    "Note : Due to limitation of basic API plan it, can only fetch 5 latest review  "
   ]
  },
  {
   "cell_type": "code",
   "execution_count": 28,
   "metadata": {},
   "outputs": [
    {
     "name": "stdout",
     "output_type": "stream",
     "text": [
      "Prapti Dhingra(Taste The Joy43🍩🍫🍕🍔) 5 I went to this place with my sister nd loved the beautiful nd decent decor of the place.The place has a great ambience nd aura.  Peri peri fries, it was so cheesy. White sauce pasta,  Creamy cheesy nd delightful . Nachos loaded with cheese, Served with cheery on top nd wonderfully presented.Chicken tikka sandwich,This was so  yumm,Taste superb.Red velvet freak shake ,This was thick, creamy nd refreshing Nutella choco punch,  This was also good.Fresh lime .Really like the work of staff. Quite humble nd kind. Deserve A rating of 5\n",
      "Kamal Chauhan 4 Their CP branch has very little sitting space available. A large group of friends wont find seat here. Also you have to wait 15-20 mins outside to get a seat. All of their items are overloaded with cheese. The food is average here. The same cheesy fries that you will get everywhere. And I don't understand the rates, everything is of the same price. I ordered Crispy Pepper Paneer Pizza: Loved it, but less for the quantity Cheesy nachos: Good Peri Peri Fries: Also good, quantity is good too. Also the staff is good here.\n",
      "Prapti Dhingra(Taste The Joy43🍩🍫🍕🍔) 5 I went to this place with my sister nd loved the beautiful nd decent decor of the place.The place has a great ambience nd aura.  Peri peri fries, it was so cheesy. White sauce pasta,  Creamy cheesy nd delightful . Nachos loaded with cheese, Served with cheery on top nd wonderfully presented.Chicken tikka sandwich,This was so  yumm,Taste superb.Red velvet freak shake ,This was thick, creamy nd refreshing Nutella choco punch,  This was also good.Fresh lime .Really like the work of staff. Quite humble nd kind. Deserve A rating of 5\n",
      "RITVIK PANDEY 5 The place is awesome  Staff was cooperative  Safety measures were taken in a right way  Worth the money  Food was overall 5/5\n",
      "Exploring Plates||Kavyamatia 5 I visited this place a while back and enjoyed every bit of it. the food was tasty and served with proper precautions along with the cleanliness of the place was also good. I really enjoyed their chicken sticks and also their shakes with chicken burger. The range of pizzas have is also very amazing on the taste good too. Looking forward to visit them soon and  I would like to recommend this place further\n"
     ]
    }
   ],
   "source": [
    "import requests\n",
    "\n",
    "header = {'user-key': '6eacc55f385ade30c93e9d0259691e14'}\n",
    "data = {'res_id': 18729557}\n",
    "response = requests.get('https://developers.zomato.com/api/v2.1/reviews',headers=header,params=data)\n",
    "\n",
    "data = response.json()\n",
    "#data\n",
    "for i in data['user_reviews']:\n",
    "    print(i['review']['user']['name'],i['review']['rating'],i['review']['review_text'])"
   ]
  },
  {
   "cell_type": "markdown",
   "metadata": {},
   "source": [
    "\n",
    "\n",
    "## Zomato restaurant Problem Detail\n",
    "##### Problem 2\n",
    "\"Pa Pa Ya\" is a modern Asian bistro & tapas bar from the House of Massive Restaurants and best described as a chic, modern and radical reinterpretation of Asian cuisine.  \n",
    "You have heard from your friends that restaurant \"Pa Pa Ya\" in Delhi is quite good. So now you want to extract the information related to \"Pa Pa Ya\" using Zomato API.  \n",
    "There is a list of questions related to the restaurant given in the next section."
   ]
  },
  {
   "cell_type": "markdown",
   "metadata": {},
   "source": [
    "### Problem 7 : Zomato Restaurant 2.2\n",
    "Fetch the details of \"Pa Pa Ya\" restaurant using Zomato API.  \n",
    "Print the user rating, the average cost for two, cuisines and address of \"Pa Pa Ya\" restaurant."
   ]
  },
  {
   "cell_type": "code",
   "execution_count": 59,
   "metadata": {},
   "outputs": [
    {
     "name": "stdout",
     "output_type": "stream",
     "text": [
      "4.9\n",
      "2500\n",
      "Asian, Chinese, Thai, Japanese\n",
      "A-3, Select Citywalk, District Centre, Saket, New Delhi\n"
     ]
    }
   ],
   "source": [
    "import requests\n",
    "header = {'user-key':'6eacc55f385ade30c93e9d0259691e14'}\n",
    "data = {'entity_id':1,'entity_type':'city','q':'PA PA YA'}\n",
    "response = requests.get('https://developers.zomato.com/api/v2.1/search',headers=header,params=data)\n",
    "\n",
    "data = response.json()\n",
    "data = data['restaurants']\n",
    "\n",
    "res_id = data[0]['restaurant']['R']['res_id']\n",
    "#18429148\n",
    "\n",
    "data = {'res_id':res_id}\n",
    "response = requests.get('https://developers.zomato.com/api/v2.1/restaurant',headers=header,params=data)\n",
    "\n",
    "data = response.json()\n",
    "print(data['user_rating']['aggregate_rating'])\n",
    "print(data['average_cost_for_two'])\n",
    "print(data['cuisines'])\n",
    "print(data['location']['address'])"
   ]
  },
  {
   "cell_type": "markdown",
   "metadata": {},
   "source": [
    "### Problem 8 : Zomato Restaurant 2.3\n",
    "Find out whether online table reservation is supported in \"Pa Pa Ya\" restaurant or not using Zomato API.  \n",
    "Print 'yes' if online table reservation is supported else 'no'  \n",
    "Note :  \n",
    "In Zomato response JSON. 1=Yes and 0 = No"
   ]
  },
  {
   "cell_type": "code",
   "execution_count": 61,
   "metadata": {},
   "outputs": [
    {
     "name": "stdout",
     "output_type": "stream",
     "text": [
      "yes\n"
     ]
    }
   ],
   "source": [
    "import requests\n",
    "header = {'user-key':'6eacc55f385ade30c93e9d0259691e14'}\n",
    "data = {'res_id':18429148}\n",
    "response = requests.get('https://developers.zomato.com/api/v2.1/restaurant',headers=header,params=data)\n",
    "\n",
    "data = response.json()\n",
    "#data\n",
    "if data['is_table_reservation_supported']:\n",
    "    print('yes')\n",
    "else:\n",
    "    print('no')"
   ]
  },
  {
   "cell_type": "markdown",
   "metadata": {},
   "source": [
    "### Problem 9 : Zomato Restaurant 2.4\n",
    "Fetch the latest review of \"Pa Pa Ya\" restaurant using Zomato API.  \n",
    "Print the name of the user, user rating and review text.  \n",
    "Note :  \n",
    "Due to the limitation of the basic API plan, it can only fetch 5 latest review"
   ]
  },
  {
   "cell_type": "code",
   "execution_count": 63,
   "metadata": {},
   "outputs": [
    {
     "name": "stdout",
     "output_type": "stream",
     "text": [
      "Nandini Kanodia 4 I went there to celebrate my bday the food was good specially the veg crystal mushroom dimsums. By i feel that the place is a bit over priced\n",
      "Prakriti Khar 5 \n",
      "GUrleen 5 \n",
      "Harshil Mahendru 5 So I am hardcore Pan Asian Cuisine lover! And there are very few places I trust for having my sushis, dimsums & UDON Noodles...Papaya is one of the best places according to me if you wanna indulge in some fine dine-in with delicious food. The menu is so massive you can’t choose what to eat and what not to!  The last time I went there I ordered: • DEHYDRATED SPINACH SUSHI: Ik from the name you must be thinking why should I eat spinach that was my reaction as well but the chef recommended us to try that..and trust me it is worth the hype !  • Mushroom Bao: If you’re a mushroom lover these bao are for you...extremely flavourful and quite big in size! • PAD THAI NOODLES: We had to order their infamous pad thai noodles..so tasty with a very different flavour that immediately soothes your taste buds. Also try their Udon Noodles. • CHOCOLATE BALL ON FIRE: The picture says it all..chocolate lovers this is your go to dish ! Though I found it to be a little expensive but you should experience everything right ?\n",
      "Rahul.bohra3297 5 Visited the restaurant on their first opening day post lockdown. They were following hygiene and sanitization standards very well. All the staff members were reflecting a sense of positivity and it was topped up with excellent professionalism delivered by vikram. And yes, most importantly they have a lovely menu with sumptuous sushi and popular staple main courses with every detail in bringing the flavours. Keep it up.\n"
     ]
    }
   ],
   "source": [
    "import requests\n",
    "\n",
    "header = {'user-key': '6eacc55f385ade30c93e9d0259691e14'}\n",
    "data = {'res_id':18429148,'count':5}\n",
    "response = requests.get('https://developers.zomato.com/api/v2.1/reviews',headers=header,params=data)\n",
    "\n",
    "data = response.json()\n",
    "#data\n",
    "for i in data['user_reviews']:\n",
    "    print(i['review']['user']['name'],i['review']['rating'],i['review']['review_text'])"
   ]
  },
  {
   "cell_type": "markdown",
   "metadata": {},
   "source": [
    "## Zomato Distance Problem\n",
    "##### Problem 3\n",
    "Distance is also a very important factor while selecting a restaurant. Suppose you are at Coding Ninjas and you want to select the restaurant which is near to you using Zomato API.  \n",
    "Note down the latitude and longitude of Coding Ninjas using Google Maps  \n",
    "There is a list of questions related to restaurant near me given in the next section.  "
   ]
  },
  {
   "cell_type": "markdown",
   "metadata": {},
   "source": [
    "### Problem 10 : Zomato distance 3.1\n",
    "Fetch the cuisine_id of of cuisine ‘BBQ’ using Zomato API.  \n",
    "Print the cuisine_id  "
   ]
  },
  {
   "cell_type": "code",
   "execution_count": 64,
   "metadata": {},
   "outputs": [
    {
     "name": "stdout",
     "output_type": "stream",
     "text": [
      "193\n"
     ]
    }
   ],
   "source": [
    "import requests\n",
    "\n",
    "header = {'user-key': '6eacc55f385ade30c93e9d0259691e14'}\n",
    "data = {'city_id':1}\n",
    "response = requests.get('https://developers.zomato.com/api/v2.1/cuisines',headers=header,params=data)\n",
    "\n",
    "data = response.json()\n",
    "\n",
    "for i in data['cuisines']:\n",
    "    if i['cuisine']['cuisine_name']=='BBQ':\n",
    "        print(i['cuisine']['cuisine_id'])"
   ]
  },
  {
   "cell_type": "markdown",
   "metadata": {},
   "source": [
    "### Problem 11 : Zomato distance 3.2\n",
    "Fetch the list of the top 10 restaurants serving cuisine ‘BBQ’ which are nearest to Coding Ninjas.  \n",
    "Print the restaurant name, user rating, restaurant id and locality in which restaurant is present.  "
   ]
  },
  {
   "cell_type": "code",
   "execution_count": 65,
   "metadata": {},
   "outputs": [
    {
     "name": "stdout",
     "output_type": "stream",
     "text": [
      "Themis Barbecue House 4.3 18204820 Netaji Subhash Place\n",
      "Barbeque Nation 4.3 9561 Netaji Subhash Place\n",
      "Amazings Kitchen 0 19370424 Prashant Vihar\n",
      "Moet's Barbeque 0 19238917 Alipur\n",
      "UBQ by Barbeque Nation 3.4 18889760 Rohini\n",
      "Kays Bar-Be-Que 4.0 3079 Ashok Vihar Phase 1\n",
      "Chicken Adda 0 19179179 Rohini\n",
      "7teen BBQ Bistro Bnq 3.9 18595610 Moti Nagar\n",
      "Pishori Chicken 0 19061375 Kirti Nagar\n",
      "Hunger On Wheels 0 19054336 Vijay Nagar\n"
     ]
    }
   ],
   "source": [
    "import requests\n",
    "\n",
    "header = {'user-key': '6eacc55f385ade30c93e9d0259691e14'}\n",
    "data = {'lat':28.697673,'lon':77.140628,'count':10,'cuisines':193,'sort':'real_distance','order':'asc'}\n",
    "response = requests.get('https://developers.zomato.com/api/v2.1/search',headers=header,params=data)\n",
    "\n",
    "data = response.json()\n",
    "\n",
    "for i in data['restaurants']:\n",
    "       print(i['restaurant']['name'],i['restaurant']['user_rating']['aggregate_rating'],i['restaurant']['id'],i['restaurant']['location']['locality'])"
   ]
  },
  {
   "cell_type": "markdown",
   "metadata": {},
   "source": [
    "### Problem 12 : Zomato distance 3.3\n",
    "Fetch the latest review of the restaurant serving cuisine ‘BBQ’ which is most nearest to Coding ninjas?   \n",
    "Print the name of user ,user rating and review text.   \n",
    "Note : \n",
    "Due to limitation of basic API plan it, can only fetch 5 latest review "
   ]
  },
  {
   "cell_type": "code",
   "execution_count": 66,
   "metadata": {},
   "outputs": [
    {
     "name": "stdout",
     "output_type": "stream",
     "text": [
      "Neha | Food Blogger 5 I visited there for 50th anniversary party and I found this place best for get togethers and to visit as a restaurant as well. Definitely give Ambience :-5/5 Quantity:5/5 Quality-5/5\n",
      "Sumitra Rawat 1 Bad quality of food. Never ever go there... It's full of cockroaches and they are visible easily and the food quality is substandard.\n",
      "Iamtarunchhikara 5 The very first thing i liked about this place is the ambience and the live music. They serve really good combination of food and buffet prices and quality are one of the best and affordable in city.\n",
      "FoodisBae 4 Roof top cafe with good view. The interiors are nice and the dj plays good music. Loved the food they serve here. They have amazing buffet also. Pizza,pasta and drinks were pretty good.service was nice.\n",
      "Milind 4 If u are bored of Barbeque nation , this place is must try for u🤓🔥😅. It is one of the best barbeque restaurants in Delhi offering rooftop seating . So we opted for rooftop seating for our lunch & the view was amazing 🔥😻. We opted for veg buffet which included a range of starters like crispy corn , paneer tikka , spicy mushroom . Then in main course we tried manchurian with noodles . As a complementary drink I ordered Kiwi mojito which was so refreshing & eye catchy too😻🔥🔥🔥🤓🤓. So if u visit Pitampura next time don't miss this amazing place.👻🔥🤓😻😻\n"
     ]
    }
   ],
   "source": [
    "import requests\n",
    "\n",
    "header = {'user-key': '6eacc55f385ade30c93e9d0259691e14'}\n",
    "data = {'res_id':18204820,'count':5}\n",
    "response = requests.get('https://developers.zomato.com/api/v2.1/reviews',headers=header,params=data)\n",
    "\n",
    "data = response.json()\n",
    "#data\n",
    "for i in data['user_reviews']:\n",
    "    print(i['review']['user']['name'],i['review']['rating'],i['review']['review_text'])"
   ]
  },
  {
   "cell_type": "markdown",
   "metadata": {},
   "source": [
    "### Problem 13 : Zomato distance 3.4\n",
    "Experiment with the radius parameter that is present in ‘GET/search’. Fetch the list of top 10 best-restaurant present in a radius of 4 km of coding ninjas.  \n",
    "Print the restaurant name, user rating, restaurant id and locality in which restaurant is present.  "
   ]
  },
  {
   "cell_type": "code",
   "execution_count": 69,
   "metadata": {},
   "outputs": [
    {
     "name": "stdout",
     "output_type": "stream",
     "text": [
      "Indian Accent 4.9 2004 The Lodhi, Lodhi Road\n",
      "Cafe Lota 4.9 305525 Pragati Maidan\n",
      "The Big Chill 4.9 1614 Khan Market\n",
      "Pa Pa Ya 4.9 18429148 Select Citywalk Mall, Saket\n",
      "Kuremal Mohan Lal Kulfi Wale 4.9 303642 Chawri Bazar\n",
      "Dum-Pukht - ITC Maurya 4.9 2744 ITC Maurya, Chanakyapuri\n",
      "The Big Chill 4.9 8244 Khan Market\n",
      "Manhattan Bar & Brewery 4.8 303960 Global Foyer Mall, Golf Course Road\n",
      "The Big Chill Cafe 4.8 18919107 The Colonnade, Connaught Place\n",
      "Downtown - Diners & Living Beer Cafe 4.8 4959 Sector 29\n"
     ]
    }
   ],
   "source": [
    "import requests\n",
    "\n",
    "header = {'user-key': '6eacc55f385ade30c93e9d0259691e14'}\n",
    "data = {'lat':28.697673,'lon':77.140628,'radius':4000,'count':10,'sort':'rating','order':'dsc'}\n",
    "response = requests.get('https://developers.zomato.com/api/v2.1/search',headers=header,params=data)\n",
    "\n",
    "data = response.json()\n",
    "for i in data['restaurants']:\n",
    "       print(i['restaurant']['name'],i['restaurant']['user_rating']['aggregate_rating'],i['restaurant']['id'],i['restaurant']['location']['locality'])"
   ]
  },
  {
   "cell_type": "markdown",
   "metadata": {},
   "source": [
    "### Problem 14 : Zomato distance 3.5\n",
    "Compare the location of the restaurant whether really they are in a distance of 4 km to Coding Ninjas. Find out whether these API radius feature is working or not.  \n",
    "Print 'yes' if radius feature work else print 'no'.  \n",
    "Note :  \n",
    "Use google search to find whether restaurant lie in range of 4km or not."
   ]
  },
  {
   "cell_type": "code",
   "execution_count": 70,
   "metadata": {},
   "outputs": [
    {
     "name": "stdout",
     "output_type": "stream",
     "text": [
      "no\n"
     ]
    }
   ],
   "source": [
    "print('no')"
   ]
  }
 ],
 "metadata": {
  "kernelspec": {
   "display_name": "Python 3",
   "language": "python",
   "name": "python3"
  },
  "language_info": {
   "codemirror_mode": {
    "name": "ipython",
    "version": 3
   },
   "file_extension": ".py",
   "mimetype": "text/x-python",
   "name": "python",
   "nbconvert_exporter": "python",
   "pygments_lexer": "ipython3",
   "version": "3.7.2"
  }
 },
 "nbformat": 4,
 "nbformat_minor": 2
}
